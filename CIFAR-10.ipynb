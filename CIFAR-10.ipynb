{
 "cells": [
  {
   "cell_type": "code",
   "execution_count": 1,
   "metadata": {},
   "outputs": [],
   "source": [
    "import tensorflow as tf\n",
    "from tensorflow.keras import Sequential\n",
    "from tensorflow.keras.layers import Flatten, Dense , Conv2D, MaxPool2D, Dropout"
   ]
  },
  {
   "cell_type": "code",
   "execution_count": 2,
   "metadata": {},
   "outputs": [],
   "source": [
    "import numpy as np\n",
    "import pandas as pd\n",
    "import matplotlib.pyplot as plt\n",
    "import matplotlib"
   ]
  },
  {
   "cell_type": "code",
   "execution_count": 3,
   "metadata": {},
   "outputs": [],
   "source": [
    "from tensorflow.keras.datasets import cifar10"
   ]
  },
  {
   "cell_type": "code",
   "execution_count": 4,
   "metadata": {},
   "outputs": [],
   "source": [
    "(x_train,y_train),(x_test, y_test)=cifar10.load_data()"
   ]
  },
  {
   "cell_type": "code",
   "execution_count": 5,
   "metadata": {},
   "outputs": [],
   "source": [
    "classes_name=['airplan','automobile','bird','cat','deer','dog','frog','horse','ship','truck']"
   ]
  },
  {
   "cell_type": "code",
   "execution_count": 6,
   "metadata": {},
   "outputs": [
    {
     "data": {
      "text/plain": [
       "255"
      ]
     },
     "execution_count": 6,
     "metadata": {},
     "output_type": "execute_result"
    }
   ],
   "source": [
    "x_train.max()"
   ]
  },
  {
   "cell_type": "code",
   "execution_count": 7,
   "metadata": {},
   "outputs": [],
   "source": [
    "x_train=x_train/255.0\n",
    "x_test=x_test/255.0"
   ]
  },
  {
   "cell_type": "code",
   "execution_count": 8,
   "metadata": {},
   "outputs": [
    {
     "data": {
      "text/plain": [
       "(50000, 32, 32, 3)"
      ]
     },
     "execution_count": 8,
     "metadata": {},
     "output_type": "execute_result"
    }
   ],
   "source": [
    "x_train.shape"
   ]
  },
  {
   "cell_type": "code",
   "execution_count": 9,
   "metadata": {},
   "outputs": [
    {
     "data": {
      "text/plain": [
       "(10000, 32, 32, 3)"
      ]
     },
     "execution_count": 9,
     "metadata": {},
     "output_type": "execute_result"
    }
   ],
   "source": [
    "x_test.shape"
   ]
  },
  {
   "cell_type": "code",
   "execution_count": 10,
   "metadata": {},
   "outputs": [
    {
     "data": {
      "text/plain": [
       "<matplotlib.image.AxesImage at 0x7fcf45b7cb50>"
      ]
     },
     "execution_count": 10,
     "metadata": {},
     "output_type": "execute_result"
    },
    {
     "data": {
      "image/png": "[encoded data removed]",
      "text/plain": [
       "<Figure size 432x288 with 1 Axes>"
      ]
     },
     "metadata": {
      "needs_background": "light"
     },
     "output_type": "display_data"
    }
   ],
   "source": [
    "plt.imshow(x_train[0])"
   ]
  },
  {
   "cell_type": "code",
   "execution_count": 11,
   "metadata": {},
   "outputs": [
    {
     "data": {
      "text/plain": [
       "array([6], dtype=uint8)"
      ]
     },
     "execution_count": 11,
     "metadata": {},
     "output_type": "execute_result"
    }
   ],
   "source": [
    "y_train[0]"
   ]
  },
  {
   "cell_type": "markdown",
   "metadata": {},
   "source": [
    "## Build CNN Model"
   ]
  },
  {
   "cell_type": "code",
   "execution_count": 12,
   "metadata": {},
   "outputs": [],
   "source": [
    "model= Sequential()\n",
    "model.add(Conv2D(filters=32, kernel_size=3, padding='same', activation='relu', input_shape=(32,32,3)))\n",
    "\n",
    "model.add(Conv2D(filters=32, kernel_size=3, padding='same', activation='relu'))\n",
    "model.add(MaxPool2D(pool_size=(2,2),strides=2, padding='valid'))\n",
    "model.add(Dropout(0.5))\n",
    "\n",
    "model.add(Flatten())\n",
    "model.add(Dense(units=128, activation='relu'))\n",
    "model.add(Dense(units=10,activation='softmax'))"
   ]
  },
  {
   "cell_type": "code",
   "execution_count": 13,
   "metadata": {},
   "outputs": [
    {
     "name": "stdout",
     "output_type": "stream",
     "text": [
      "Model: \"sequential\"\n",
      "_________________________________________________________________\n",
      "Layer (type)                 Output Shape              Param #   \n",
      "=================================================================\n",
      "conv2d (Conv2D)              (None, 32, 32, 32)        896       \n",
      "_________________________________________________________________\n",
      "conv2d_1 (Conv2D)            (None, 32, 32, 32)        9248      \n",
      "_________________________________________________________________\n",
      "max_pooling2d (MaxPooling2D) (None, 16, 16, 32)        0         \n",
      "_________________________________________________________________\n",
      "dropout (Dropout)            (None, 16, 16, 32)        0         \n",
      "_________________________________________________________________\n",
      "flatten (Flatten)            (None, 8192)              0         \n",
      "_________________________________________________________________\n",
      "dense (Dense)                (None, 128)               1048704   \n",
      "_________________________________________________________________\n",
      "dense_1 (Dense)              (None, 10)                1290      \n",
      "=================================================================\n",
      "Total params: 1,060,138\n",
      "Trainable params: 1,060,138\n",
      "Non-trainable params: 0\n",
      "_________________________________________________________________\n"
     ]
    }
   ],
   "source": [
    "model.summary()"
   ]
  },
  {
   "cell_type": "code",
   "execution_count": 14,
   "metadata": {},
   "outputs": [],
   "source": [
    "model.compile(optimizer='adam', loss='sparse_categorical_crossentropy', metrics=['sparse_categorical_accuracy'])"
   ]
  },
  {
   "cell_type": "code",
   "execution_count": 15,
   "metadata": {},
   "outputs": [
    {
     "name": "stdout",
     "output_type": "stream",
     "text": [
      "Epoch 1/10\n",
      "5000/5000 [==============================] - 92s 18ms/step - loss: 1.4591 - sparse_categorical_accuracy: 0.4744 - val_loss: 1.1794 - val_sparse_categorical_accuracy: 0.5822\n",
      "Epoch 2/10\n",
      "5000/5000 [==============================] - 90s 18ms/step - loss: 1.1661 - sparse_categorical_accuracy: 0.5857 - val_loss: 1.0734 - val_sparse_categorical_accuracy: 0.6153\n",
      "Epoch 3/10\n",
      "5000/5000 [==============================] - 89s 18ms/step - loss: 1.0491 - sparse_categorical_accuracy: 0.6264 - val_loss: 1.0011 - val_sparse_categorical_accuracy: 0.6382\n",
      "Epoch 4/10\n",
      "5000/5000 [==============================] - 90s 18ms/step - loss: 0.9815 - sparse_categorical_accuracy: 0.6503 - val_loss: 0.9797 - val_sparse_categorical_accuracy: 0.6513\n",
      "Epoch 5/10\n",
      "5000/5000 [==============================] - 91s 18ms/step - loss: 0.9274 - sparse_categorical_accuracy: 0.6721 - val_loss: 0.9453 - val_sparse_categorical_accuracy: 0.6681\n",
      "Epoch 6/10\n",
      "5000/5000 [==============================] - 92s 18ms/step - loss: 0.8722 - sparse_categorical_accuracy: 0.6900 - val_loss: 0.9566 - val_sparse_categorical_accuracy: 0.6647\n",
      "Epoch 7/10\n",
      "5000/5000 [==============================] - 91s 18ms/step - loss: 0.8388 - sparse_categorical_accuracy: 0.7032 - val_loss: 0.9240 - val_sparse_categorical_accuracy: 0.6774\n",
      "Epoch 8/10\n",
      "5000/5000 [==============================] - 91s 18ms/step - loss: 0.8040 - sparse_categorical_accuracy: 0.7135 - val_loss: 0.9181 - val_sparse_categorical_accuracy: 0.6854\n",
      "Epoch 9/10\n",
      "5000/5000 [==============================] - 93s 19ms/step - loss: 0.7682 - sparse_categorical_accuracy: 0.7271 - val_loss: 0.9087 - val_sparse_categorical_accuracy: 0.6843\n",
      "Epoch 10/10\n",
      "5000/5000 [==============================] - 91s 18ms/step - loss: 0.7425 - sparse_categorical_accuracy: 0.7360 - val_loss: 0.9332 - val_sparse_categorical_accuracy: 0.6823\n"
     ]
    }
   ],
   "source": [
    "history=model.fit(x_train, y_train, batch_size=10, epochs=10, verbose=1, validation_data=(x_test, y_test))"
   ]
  },
  {
   "cell_type": "code",
   "execution_count": 16,
   "metadata": {},
   "outputs": [
    {
     "data": {
      "text/plain": [
       "{'loss': [1.4590576887130737,\n",
       "  1.166129231452942,\n",
       "  1.0490801334381104,\n",
       "  0.981496274471283,\n",
       "  0.9273675680160522,\n",
       "  0.8721631169319153,\n",
       "  0.8388246893882751,\n",
       "  0.8039808869361877,\n",
       "  0.7681734561920166,\n",
       "  0.7424770593643188],\n",
       " 'sparse_categorical_accuracy': [0.47440001368522644,\n",
       "  0.5856599807739258,\n",
       "  0.6263599991798401,\n",
       "  0.6503000259399414,\n",
       "  0.6720600128173828,\n",
       "  0.6900399923324585,\n",
       "  0.7031999826431274,\n",
       "  0.7135400176048279,\n",
       "  0.7271400094032288,\n",
       "  0.7359600067138672],\n",
       " 'val_loss': [1.1793949604034424,\n",
       "  1.0734069347381592,\n",
       "  1.0011045932769775,\n",
       "  0.9796897172927856,\n",
       "  0.945293664932251,\n",
       "  0.9566307663917542,\n",
       "  0.9239537119865417,\n",
       "  0.9181146621704102,\n",
       "  0.9087111353874207,\n",
       "  0.9332393407821655],\n",
       " 'val_sparse_categorical_accuracy': [0.5821999907493591,\n",
       "  0.6152999997138977,\n",
       "  0.6381999850273132,\n",
       "  0.6513000130653381,\n",
       "  0.6680999994277954,\n",
       "  0.6646999716758728,\n",
       "  0.6773999929428101,\n",
       "  0.6854000091552734,\n",
       "  0.6843000054359436,\n",
       "  0.6822999715805054]}"
      ]
     },
     "execution_count": 16,
     "metadata": {},
     "output_type": "execute_result"
    }
   ],
   "source": [
    "history.history"
   ]
  },
  {
   "cell_type": "code",
   "execution_count": 19,
   "metadata": {},
   "outputs": [
    {
     "data": {
      "image/png": "[encoded data removed]",
      "text/plain": [
       "<Figure size 432x288 with 1 Axes>"
      ]
     },
     "metadata": {
      "needs_background": "light"
     },
     "output_type": "display_data"
    }
   ],
   "source": [
    "epoch_range=range(1,11)\n",
    "plt.plot(epoch_range, history.history[\"sparse_categorical_accuracy\"])\n",
    "plt.plot(epoch_range, history.history[\"val_sparse_categorical_accuracy\"])\n",
    "plt.title(\"model accuracy\")\n",
    "plt.ylabel(\"Accuracy\")\n",
    "plt.xlabel(\"Epoch\")\n",
    "plt.legend([\"train\",\"val\"],loc=\"upper left\")\n",
    "plt.show()"
   ]
  },
  {
   "cell_type": "code",
   "execution_count": 21,
   "metadata": {},
   "outputs": [
    {
     "data": {
      "image/png": "[encoded data removed]",
      "text/plain": [
       "<Figure size 432x288 with 1 Axes>"
      ]
     },
     "metadata": {
      "needs_background": "light"
     },
     "output_type": "display_data"
    }
   ],
   "source": [
    "epoch_range=range(1,11)\n",
    "plt.plot(epoch_range, history.history[\"loss\"])\n",
    "plt.plot(epoch_range, history.history[\"val_loss\"])\n",
    "plt.title(\"model loss\")\n",
    "plt.ylabel(\"Loss\")\n",
    "plt.xlabel(\"Epoch\")\n",
    "plt.legend([\"train\",\"val\"],loc=\"upper left\")\n",
    "plt.show()"
   ]
  },
  {
   "cell_type": "code",
   "execution_count": null,
   "metadata": {},
   "outputs": [],
   "source": []
  }
 ],
 "metadata": {
  "kernelspec": {
   "display_name": "Python 3",
   "language": "python",
   "name": "python3"
  },
  "language_info": {
   "codemirror_mode": {
    "name": "ipython",
    "version": 3
   },
   "file_extension": ".py",
   "mimetype": "text/x-python",
   "name": "python",
   "nbconvert_exporter": "python",
   "pygments_lexer": "ipython3",
   "version": "3.7.7"
  }
 },
 "nbformat": 4,
 "nbformat_minor": 4
}
